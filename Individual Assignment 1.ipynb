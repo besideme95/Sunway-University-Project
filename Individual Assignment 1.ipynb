{
 "cells": [
  {
   "cell_type": "markdown",
   "id": "d5bf2197-175f-408c-8daa-842910fafd3e",
   "metadata": {
    "tags": []
   },
   "source": [
    "# Restaurant Bill Calculator"
   ]
  },
  {
   "cell_type": "markdown",
   "id": "81b19f5b-f58a-4369-8cef-3749cff77a4e",
   "metadata": {
    "tags": []
   },
   "source": [
    "## First Task"
   ]
  },
  {
   "cell_type": "markdown",
   "id": "d0e434e3-a5e7-43be-bd5c-a2c4f63e46e3",
   "metadata": {
    "jp-MarkdownHeadingCollapsed": true,
    "tags": []
   },
   "source": [
    "### The program should display a menu with various food items and their prices."
   ]
  },
  {
   "cell_type": "code",
   "execution_count": 7,
   "id": "9dbd2cd2-2d43-4eed-9e4c-c2f591ff74df",
   "metadata": {
    "tags": []
   },
   "outputs": [],
   "source": [
    "#The first objective would be to create the menu for the restaurant. The developer uses 5 items for the items within the restaurant.\n",
    "# The first variable would be 'Menu = etc...'. In doing so, it allowed the developer to use the print function efficiently without typing the entire menu item. Therefore avoiding repeating itself."
   ]
  },
  {
   "cell_type": "code",
   "execution_count": 26,
   "id": "d1dc0e72-0907-4667-abea-07989f31d556",
   "metadata": {
    "tags": []
   },
   "outputs": [
    {
     "name": "stdout",
     "output_type": "stream",
     "text": [
      "('Burger = $20.00', 'Hot Dog = $15.00', 'Tomato Pasta = $25.00', 'Nugget = $10.00', 'Fries = $5.00')\n"
     ]
    }
   ],
   "source": [
    "Menu = 'Burger = $20.00', 'Hot Dog = $15.00','Tomato Pasta = $25.00','Nugget = $10.00','Fries = $5.00'\n",
    "print(Menu)"
   ]
  },
  {
   "cell_type": "markdown",
   "id": "cfd998d3-333e-4ca1-91c3-8fc4106cf57c",
   "metadata": {
    "tags": []
   },
   "source": [
    "### The user should be able to input the items they want to order, along with the quantity for each item.\n"
   ]
  },
  {
   "cell_type": "code",
   "execution_count": null,
   "id": "80d1667d-639d-4e7f-aa55-4746470b6a0d",
   "metadata": {},
   "outputs": [],
   "source": [
    "#The initial bill of the order will start from 0 because nothing had been order yet.\n",
    "# The variable Total_bill has been created. It allow the developer to refer back to this particular variable for the addition of the order. It will used used later during the Subtotal_bill."
   ]
  },
  {
   "cell_type": "code",
   "execution_count": null,
   "id": "6be761c4-4e4b-4eb1-ad85-7210e9749647",
   "metadata": {},
   "outputs": [],
   "source": [
    "Total_bill = 0"
   ]
  },
  {
   "cell_type": "code",
   "execution_count": null,
   "id": "460357b3-2ad7-431b-9255-54f45b84983c",
   "metadata": {},
   "outputs": [],
   "source": [
    "#to customise the program, the developer created an input to request the customer name."
   ]
  },
  {
   "cell_type": "code",
   "execution_count": 28,
   "id": "77a782ee-c929-4b37-9f98-e827b48f8f83",
   "metadata": {
    "tags": []
   },
   "outputs": [
    {
     "name": "stdin",
     "output_type": "stream",
     "text": [
      "Good Day! Sir or Madam, may I get your name for the order. Sam\n",
      "Thank you for providing us your name, May I get your order Sam? 2\n"
     ]
    }
   ],
   "source": [
    "User_name = input('Good Day! Sir or Madam, may I get your name for the order.')\n"
   ]
  },
  {
   "cell_type": "code",
   "execution_count": null,
   "id": "0adeab71-9e85-426f-8e91-12c27493c318",
   "metadata": {},
   "outputs": [],
   "source": [
    "#Once the user enter his/her name. The developer created another input to ask what would they like to order.\n",
    "#Please note that the developer use the f-string function. This allow the expression to be embedded within the literal string.\n",
    "#Although f = f-string, to embedded expression, {} need to be used to embedded the expression.\n",
    "#Thus, the User_order allow the customer to see the str within the input and the {User_name} will change depending on the previous input.\n",
    "#It allow a more personalise experiences."
   ]
  },
  {
   "cell_type": "code",
   "execution_count": null,
   "id": "ea468cd0-0fc8-4745-98d9-1957ab58b9ed",
   "metadata": {},
   "outputs": [],
   "source": [
    "User_order = input(f'Thank you for providing us your name, May I get your order {User_name}?')"
   ]
  },
  {
   "cell_type": "code",
   "execution_count": null,
   "id": "7a2a1ee4-648b-4207-8657-a750337e4a83",
   "metadata": {},
   "outputs": [],
   "source": [
    "#Typo is critical when testing the code. There could be several attemp where customer would not key in the word exactly as display on the menu. In this case, it was not stated that the customer need to key in the word exactly the same because python is sensitivity to upper and lower case.\n",
    "#There the .lower() is used. Hence, no matter how the customer key in the food item. The input would be all in lowercase. It eliminate answer like \"BurGer\", \"HOTDOG\" and etc. "
   ]
  },
  {
   "cell_type": "code",
   "execution_count": null,
   "id": "5e7de2c3-8688-4155-88c6-c2b89f22b97c",
   "metadata": {},
   "outputs": [],
   "source": [
    "User_order = User_order.lower()"
   ]
  },
  {
   "cell_type": "code",
   "execution_count": null,
   "id": "8a1e39fc-568c-4599-b3ca-81bc6eab0617",
   "metadata": {},
   "outputs": [],
   "source": [
    "#As seen below, if User_order == 'Burger'. It means that the user need to exactly key in the word in the same format. With the inclusion of the capitlise B. Therefore, by changing the input to all lower case and the User_order == burger. The system will display less error in case there is a typo in lower and upper case.\n",
    "#if , elif and else is used as a conditional statement that provide the program to make a decision. When the user key in the string exactly with the conditional block, it will change the total_bill accordingly.\n",
    "#Moreover, if the input key in is not within the menu then the system will break and the customer have to restart the program.\n",
    "#Due to the complexity needed to create a boolean value within. The developer have use pass because it the user type in a different item into the input, it will show an error.\n",
    "#Therefore, passs is used to allow th code to run without error."
   ]
  },
  {
   "cell_type": "code",
   "execution_count": 31,
   "id": "9b8b0223-4733-434b-a121-63ae0295d91a",
   "metadata": {
    "tags": []
   },
   "outputs": [],
   "source": [
    "if User_order == 'burger':\n",
    "    Total_bill = 20\n",
    "elif User_order == 'hot dog':\n",
    "    Total_bill = 15\n",
    "elif User_order == 'tomato pasta':\n",
    "    Total_bill = 25\n",
    "elif User_order == 'nugget':\n",
    "    Total_bill = 10\n",
    "elif User_order == 'fries':\n",
    "    Total_bill = 5\n",
    "else:\n",
    "    pass"
   ]
  },
  {
   "cell_type": "code",
   "execution_count": null,
   "id": "ed4265fc-ce6c-47e0-9718-28847ad4ec1a",
   "metadata": {},
   "outputs": [],
   "source": [
    "#To get the quantity of the food\n",
    "#Another variable will be created to store the quantity of the item\n",
    "#By placing int() and the augment is the input, it convert the input into int. This is done because str is unable to do mathematic operation thus the conversion.\n",
    "#Repeatly f-string is used to make the interactive more personalise."
   ]
  },
  {
   "cell_type": "code",
   "execution_count": null,
   "id": "eae81aa7-a908-429b-832f-e94a879ae8d1",
   "metadata": {},
   "outputs": [],
   "source": [
    "Quantity = int(input(f'Good selection, may I know how many {User_order} would you like?'))"
   ]
  },
  {
   "cell_type": "markdown",
   "id": "0bba2e50-b62f-477d-abb7-08275b0ae4d0",
   "metadata": {
    "jp-MarkdownHeadingCollapsed": true,
    "tags": []
   },
   "source": [
    "### The program should calculate the subtotal for the order."
   ]
  },
  {
   "cell_type": "code",
   "execution_count": null,
   "id": "18ad51ff-2cfe-4983-9871-725c46bf2cc6",
   "metadata": {},
   "outputs": [],
   "source": [
    "#To allow the customer to double check their order. The program willl print the quantity along with the item selected."
   ]
  },
  {
   "cell_type": "code",
   "execution_count": null,
   "id": "52e2dd9e-9ad3-4652-ad4f-6e10752ec8fa",
   "metadata": {},
   "outputs": [],
   "source": [
    "print(f'You have selected {Quantity} set of {User_order}')"
   ]
  },
  {
   "cell_type": "code",
   "execution_count": null,
   "id": "bf2e1380-d10b-4474-a5d8-52a61c7fd77d",
   "metadata": {},
   "outputs": [],
   "source": [
    "#The subtotal is calculated by doing multiplication. Which is what the customer choose and how many "
   ]
  },
  {
   "cell_type": "code",
   "execution_count": null,
   "id": "fe092c11-0652-4742-91d9-d533e185627e",
   "metadata": {},
   "outputs": [],
   "source": [
    "Subtotal = Quantity*Total_bill"
   ]
  },
  {
   "cell_type": "code",
   "execution_count": null,
   "id": "5446b0ab-b10a-45c3-b02e-a73d7d2d73f2",
   "metadata": {},
   "outputs": [],
   "source": [
    "#f-string is used again within the print function. It allow expression to be embedded within the str literal."
   ]
  },
  {
   "cell_type": "code",
   "execution_count": null,
   "id": "53b0c576-5849-4305-a6b6-7ac4059c0107",
   "metadata": {},
   "outputs": [],
   "source": [
    "print(f'The subtotal of the bill is {Subtotal}')"
   ]
  },
  {
   "cell_type": "markdown",
   "id": "c7077713-d765-4ede-bc18-abc996496d75",
   "metadata": {
    "jp-MarkdownHeadingCollapsed": true,
    "tags": []
   },
   "source": [
    "### The program should then ask the user to input the tax rate (in percentage) and the tip amount (in percentage)."
   ]
  },
  {
   "cell_type": "code",
   "execution_count": null,
   "id": "515f2d33-cecf-49a5-99b4-367d2295091c",
   "metadata": {},
   "outputs": [],
   "source": [
    "#tax Calculation\n",
    "#In this case, the Tax_input will be used to prompt the customer to enter the tax rate within their country.\n",
    "#In order to do mathematic operation int() will be used to convert str to int. Furthermore input() would be the argument.\n",
    "#Within the str argument, f-string is used to embedded expression within the str literal."
   ]
  },
  {
   "cell_type": "code",
   "execution_count": null,
   "id": "b5344216-ce7b-45ad-81e2-8f91ea1f821f",
   "metadata": {},
   "outputs": [],
   "source": [
    "Tax_input = int(input(f'{User_name}, please enter your tax rate. Only enter 1 to 99'))"
   ]
  },
  {
   "cell_type": "code",
   "execution_count": null,
   "id": "f8d7e43c-f796-4ef9-b346-d8c4a898badd",
   "metadata": {},
   "outputs": [],
   "source": [
    "#once the number is keyed in, to convert the number into a percentage. The Tax_input is divided by 100 to get a percentage.\n",
    "#As seen 100 does not require '' because it is a int."
   ]
  },
  {
   "cell_type": "code",
   "execution_count": null,
   "id": "3b3f7cda-c4e8-4c9d-9413-cac93d495635",
   "metadata": {},
   "outputs": [],
   "source": [
    "Tax_input = Tax_input/100\n"
   ]
  },
  {
   "cell_type": "code",
   "execution_count": null,
   "id": "0590582b-9ff2-466a-a3c6-2733082ec581",
   "metadata": {},
   "outputs": [],
   "source": [
    "#To calculate the tax amount, the Tax_input is multiply by Subtotal to get the tax amount."
   ]
  },
  {
   "cell_type": "code",
   "execution_count": null,
   "id": "aa7f0147-0773-4e3f-a824-bde16b1c4e8f",
   "metadata": {},
   "outputs": [],
   "source": [
    "Tax_amount = Tax_input*Subtotal\n"
   ]
  },
  {
   "cell_type": "code",
   "execution_count": null,
   "id": "83abb383-2ef7-4041-9cad-19d57c4b42a1",
   "metadata": {},
   "outputs": [],
   "source": [
    "#Once again, Tips_input would be another variable to ask the customer the percentage of tips they want to add to the total bill."
   ]
  },
  {
   "cell_type": "code",
   "execution_count": null,
   "id": "ad003edd-6eec-42d5-9dc2-b709355e59b8",
   "metadata": {},
   "outputs": [],
   "source": [
    "Tips_input = int(input(f'{User_name}, please enter the % of tips you would like to add for our amazing service!'))"
   ]
  },
  {
   "cell_type": "code",
   "execution_count": null,
   "id": "0c5f067d-75b5-468e-979f-d448e7647adb",
   "metadata": {},
   "outputs": [],
   "source": [
    "#once the number is keyed in, to convert the number into a percentage. The Tips_input is divided by 100 to get a percentage.\n",
    "#As seen 100 does not require '' because it is a int."
   ]
  },
  {
   "cell_type": "code",
   "execution_count": null,
   "id": "fa053c7b-3e2b-4978-8dbf-d2afc811336b",
   "metadata": {},
   "outputs": [],
   "source": [
    "Tips_input = Tips_input/100\n"
   ]
  },
  {
   "cell_type": "code",
   "execution_count": null,
   "id": "2862aee5-acdf-43a0-b97f-3fd69df0b171",
   "metadata": {},
   "outputs": [],
   "source": [
    "#To calculate the tax amount, the Tips_input is multiply by Subtotal to get the tax amount."
   ]
  },
  {
   "cell_type": "code",
   "execution_count": null,
   "id": "45f695fe-2e41-47c7-9466-e2550e4296d4",
   "metadata": {},
   "outputs": [],
   "source": [
    "Tips_amount = Tips_input*Subtotal"
   ]
  },
  {
   "cell_type": "markdown",
   "id": "c5b292ca-8f65-4696-a329-e2c649343089",
   "metadata": {
    "jp-MarkdownHeadingCollapsed": true,
    "tags": []
   },
   "source": [
    "### Calculate and display the total bill, including taxes and tip"
   ]
  },
  {
   "cell_type": "code",
   "execution_count": null,
   "id": "3feed98d-0985-49c0-9e9a-3e8fd99a6d33",
   "metadata": {},
   "outputs": [],
   "source": [
    "#We then calculate the final bill by adding the tax amount, the tips amount to the subtotal bill.\n",
    "#Follow by printing the breakdown of the bill. All the 3 line of code use the print function along with the f-string to embeded expression."
   ]
  },
  {
   "cell_type": "code",
   "execution_count": null,
   "id": "b7bc4bc7-8b87-4d09-ad8e-060297c9fa67",
   "metadata": {},
   "outputs": [],
   "source": [
    "Final_bill = Tax_amount + Tips_amount + Subtotal\n",
    "print(f'The subtotal is {Subtotal}')\n",
    "print(f'The tax amount is {Tax_amount}')\n",
    "print(f'You have chosen to tip us {Tips_input}')\n",
    "print(f'The final bill is {Final_bill}')"
   ]
  },
  {
   "cell_type": "markdown",
   "id": "ec479760-57b3-4004-9d92-48cdec563295",
   "metadata": {
    "jp-MarkdownHeadingCollapsed": true,
    "tags": []
   },
   "source": [
    "## Test the Code"
   ]
  },
  {
   "cell_type": "code",
   "execution_count": null,
   "id": "e91c6fa5-3249-4a83-962d-36fdcb302ff3",
   "metadata": {
    "tags": []
   },
   "outputs": [
    {
     "name": "stdout",
     "output_type": "stream",
     "text": [
      "('Burger = $20.00', 'Hot Dog = $15.00', 'Tomato Pasta = $25.00', 'Nugget = $10.00', 'Fries = $5.00')\n"
     ]
    }
   ],
   "source": [
    "Menu = 'Burger = $20.00', 'Hot Dog = $15.00','Tomato Pasta = $25.00','Nugget = $10.00','Fries = $5.00'\n",
    "print(Menu)\n",
    "\n",
    "Total_bill = 0\n",
    "User_name = input('Good Day! Sir or Madam, may I get your name for the order.')\n",
    "User_order = input(f'Thank you for providing us your name, May I get your order {User_name}?')\n",
    "User_order = User_order.lower()\n",
    "\n",
    "if User_order == 'burger':\n",
    "    Total_bill = 20\n",
    "elif User_order == 'hot dog':\n",
    "    Total_bill = 15\n",
    "elif User_order == 'tomato pasta':\n",
    "    Total_bill = 25\n",
    "elif User_order == 'nugget':\n",
    "    Total_bill = 10\n",
    "elif User_order == 'fries':\n",
    "    Total_bill = 5\n",
    "else:\n",
    "    pass\n",
    "    \n",
    "\n",
    "Quantity = int(input(f'Good selection, may I know how many {User_order} would you like?'))\n",
    "\n",
    "print(f'You have selected {Quantity} set of {User_order}')\n",
    "Subtotal = Quantity*Total_bill\n",
    "print(f'The subtotal of the bill is {Subtotal}')\n",
    "\n",
    "Tax_input = int(input(f'{User_name}, please enter your tax rate. Only enter 1 to 99'))\n",
    "Tax_input = Tax_input/100\n",
    "Tax_amount = Tax_input*Subtotal\n",
    "Tips_input = int(input(f'{User_name}, please enter the % of tips you would like to add for our amazing service!'))\n",
    "Tips_input = Tips_input/100\n",
    "Tips_amount = Tips_input*Subtotal\n",
    "Final_bill = (Tax_amount + Tips_amount + Subtotal)\n",
    "\n",
    "print(f'The subtotal is {Subtotal}')\n",
    "print(f'The tax amount is {Tax_amount}')\n",
    "print(f'You have chosen to tip us {Tips_amount}')\n",
    "print(f'The final bill is {Final_bill}')\n"
   ]
  },
  {
   "cell_type": "code",
   "execution_count": null,
   "id": "bedaa0ee-6a29-4434-bf29-bc9dda8a984e",
   "metadata": {},
   "outputs": [],
   "source": []
  },
  {
   "cell_type": "code",
   "execution_count": null,
   "id": "c5713525-00c0-45d9-9dc6-cd7410a19a1a",
   "metadata": {},
   "outputs": [],
   "source": []
  }
 ],
 "metadata": {
  "kernelspec": {
   "display_name": "Python 3 (ipykernel)",
   "language": "python",
   "name": "python3"
  },
  "language_info": {
   "codemirror_mode": {
    "name": "ipython",
    "version": 3
   },
   "file_extension": ".py",
   "mimetype": "text/x-python",
   "name": "python",
   "nbconvert_exporter": "python",
   "pygments_lexer": "ipython3",
   "version": "3.11.5"
  }
 },
 "nbformat": 4,
 "nbformat_minor": 5
}
