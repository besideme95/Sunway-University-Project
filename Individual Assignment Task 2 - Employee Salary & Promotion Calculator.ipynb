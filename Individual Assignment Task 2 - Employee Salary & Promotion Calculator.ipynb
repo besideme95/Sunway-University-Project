{
 "cells": [
  {
   "cell_type": "markdown",
   "id": "3b649fb9-3169-443d-bf5c-df90ea46ba0a",
   "metadata": {
    "tags": []
   },
   "source": [
    "# Employee Salary and Promotion Calculator\n"
   ]
  },
  {
   "cell_type": "markdown",
   "id": "967a3b52-0e49-4ec8-b185-74a92d143f13",
   "metadata": {
    "tags": []
   },
   "source": [
    "## Code Explain in steps\n",
    "The assumption would be that each instruction will be trated as pseudo code."
   ]
  },
  {
   "cell_type": "markdown",
   "id": "61b8e09b-5f82-4e8d-870e-3aa2f56fcc87",
   "metadata": {
    "jp-MarkdownHeadingCollapsed": true,
    "tags": []
   },
   "source": [
    "### 1. The program should ask the user to input the employee's name, years of experience, and performance rating (on a scale of 1 to 5).\n"
   ]
  },
  {
   "cell_type": "code",
   "execution_count": 6,
   "id": "a2207cc8-2664-4697-b757-51d7963c14dc",
   "metadata": {
    "tags": []
   },
   "outputs": [
    {
     "name": "stdin",
     "output_type": "stream",
     "text": [
      "Please enter your name. Sam\n",
      "Please enter how many years of experiences working. 5\n",
      "Please enter your performance rating from 1 to 5. 5\n"
     ]
    }
   ],
   "source": [
    "#The first step of the pseudo code would be the obtain the user name, year of experience and performance rating.\n",
    "#each varaible will be assign with an input as seen below.\n",
    "#3 varaible will be used to assign the respective input for the question required by the assignment.\n",
    "#furthermore, data conversion was implemented to the certain variables (year_of_experience and performance_rating) as int is necessary to do mathematical operation.\n",
    "employee_name = input(\"Please enter your name.\")\n",
    "year_of_experience = int(input(\"Please enter how many years of experiences working.\"))\n",
    "performance_rating = int(input(\"Please enter your performance rating from 1 to 5.\"))"
   ]
  },
  {
   "cell_type": "markdown",
   "id": "9b780068-e805-4f47-95b9-1fbd2b4107c3",
   "metadata": {
    "jp-MarkdownHeadingCollapsed": true,
    "tags": []
   },
   "source": [
    "### 2. Based on the employee's years of experience, calculate their base salary. For example, a developer with 0-2 years of experience might have a base salary of 40,000, while those 3-5 years might have $60,000 and so on."
   ]
  },
  {
   "cell_type": "code",
   "execution_count": 6,
   "id": "cb81d7b3-4f45-4b9b-9451-90947a45fe61",
   "metadata": {},
   "outputs": [],
   "source": [
    "#to determine the salary, the developer created a variable (base_salary) to store the initial amount of the salary which is 0.\n",
    "base_salary = 0\n",
    "\n",
    "#during the week 2 lectures, the focus would be the usecase of the loop function.\n",
    "#Thus, the developer implement control of flow and it define the sequences of execution, managing loop and handling error in the program.\n",
    "#While True: It refer to while the boolean is set to True, is enable the code to effective run through the following code below.\n",
    "#Within this sceneario, several conditional statment are applied to the program. if, elif and else are conditional statement.\n",
    "#Once the statement is set, logical operator is used to set certain condition for each conditional statement.\n",
    "#As seen below, the example would be, if input key in greater than 0 and less then equal less than 2. The following code will execute, which are base_salary will change from 0 to 40000.\n",
    "#The break is included after the base_salary to exit the loop.\n",
    "'''  elif year_of_experience < 0:\n",
    "        print(\"Invalid number\")\n",
    "        year_of_experience = int(input(\"Please enter how many years of experiences working.\"))\n",
    "#This particular code serve a difference purpose, as the conditional statement are set which the range from 1 to 5. The developer have to take account of number not within the range.\n",
    "#therefore, setting the conditional statement would continue the while loop. It will executed the print function and the while loop repeat itself until the user key in the input correctly.\n",
    "'''\n",
    "while True:\n",
    "    if year_of_experience > 0 and year_of_experience <= 2:\n",
    "        base_salary = 40000\n",
    "        break\n",
    "    elif year_of_experience >2 and year_of_experience <=5:\n",
    "        base_salary = 60000\n",
    "        break\n",
    "    elif year_of_experience < 0:\n",
    "        print(\"Invalid number\")\n",
    "        year_of_experience = int(input(\"Please enter how many years of experiences working.\"))\n",
    "    else:\n",
    "        base_salary = 80000\n",
    "        break"
   ]
  },
  {
   "cell_type": "markdown",
   "id": "c9196834-ebd6-4ba2-9f17-780146da9b31",
   "metadata": {
    "jp-MarkdownHeadingCollapsed": true,
    "tags": []
   },
   "source": [
    "### 3. Based on the performance rating, calculate a performance bonus. A rating of 1 might result in no bonus, while a rating of 5 could result in a 10% bonus."
   ]
  },
  {
   "cell_type": "code",
   "execution_count": 14,
   "id": "2951661d-2561-46b9-ad16-09945956ed45",
   "metadata": {
    "tags": []
   },
   "outputs": [],
   "source": [
    "#This section is identical to the previous code. The purpose of the performance_rating would be to calculate the bonus. Instead of assigning the base_salary.\n",
    "#In this scenario, the conditional statment would be a simplified version. Since the range of the rating would be 1 to 5. The developer used == (comparism operator) to evaluate if performance_rating input is equal to a certain int,\n",
    "#for example: if performance_rating == 1: This mean that is the input from performance_rating is 1 then execute the below code.\n",
    "#Moreover, the this section focus on calculating the bonus. Hence, the developer used the assign the % of bonus that the employee is entitiled depending on their performance ratin.\n",
    "#if rating == 1 then, sadly no bonus. If the rating is between 2 and 4 then a varaible (bonus_rate) will get 0.05 bonus. if the rating is 5 then the varaible will set the bonus_rate to 0.1.\n",
    "#to determine how the % of the bonus is calculated. Refer to the below:\n",
    "# 5% = 5/100 = 0.05\n",
    "# 10% = 10/100 = 0.1\n",
    "#Lastly, the bonus is assign with a simple mathematic operation. It takes the bonus_rate multiply by base_salary. Thus, achieving the amount of the bonus.\n",
    "\n",
    "while True: \n",
    "    if performance_rating == 1:\n",
    "        print(\"Please try harder next year for bonus\")\n",
    "        break\n",
    "    elif performance_rating >=2 and performance_rating <= 4:\n",
    "        bonus_rate = 0.05\n",
    "        print(\"You are eligable for a 5% increment this year, keep on the hard work.\")\n",
    "        break\n",
    "    elif performance_rating == 5:\n",
    "        bonus_rate = 0.1\n",
    "        print(\"Congratulation, you are eligible for 10% increment!\")\n",
    "        break\n",
    "    else:\n",
    "        print(\"Please try again. Only value from 1 to 5\")\n",
    "        performance_rating = int(input(\"Please enter your performance rating from 1 to 5.\"))\n",
    "bonus = bonus_rate*base_salary"
   ]
  },
  {
   "cell_type": "markdown",
   "id": "8e9c805f-29d9-439b-a4c2-962e8adac3dd",
   "metadata": {
    "jp-MarkdownHeadingCollapsed": true,
    "tags": []
   },
   "source": [
    "### 4. Display the employee's name, base salary, performance bonus, and the total salary."
   ]
  },
  {
   "cell_type": "code",
   "execution_count": null,
   "id": "99a7bdc2-b21a-45f7-89d4-e9bad4ccc90c",
   "metadata": {},
   "outputs": [],
   "source": [
    "#f string is used to include expression within the print function.\n",
    "#\\n == new line. it make the program more user friendly.\n",
    "#without \\n\n",
    "#Employee name:samBase salary: $40000.00Performance bonus =$2000.00Total salary = $42000.00\n",
    "\n",
    "#with \\n:\n",
    "#Employee name:sam\n",
    "#Base salary: $40000.00\n",
    "#Performance bonus =$2000.00\n",
    "#Total salary = $42000.00\n",
    "\n",
    "#{x:.2f} the .2f essentially it is an arugment to allow 2 decimal within the int.\n",
    "print(f\"Employee name:{employee_name}\\nBase salary: ${base_salary:.2f}\\nPerformance bonus =${bonus:.2f}\\nTotal salary = ${total_salary:.2f}\")"
   ]
  },
  {
   "cell_type": "markdown",
   "id": "e4fe0554-a1fb-4e8d-9df0-97958be6c4cb",
   "metadata": {
    "jp-MarkdownHeadingCollapsed": true,
    "tags": []
   },
   "source": [
    "### 5. Implement a promotion system: If an employee has more than 5 years of experience and a rating of 4 or higher, they are eligible for a promotion with a 10% raise\n"
   ]
  },
  {
   "cell_type": "code",
   "execution_count": null,
   "id": "f069702a-586a-424b-af8d-e58fe4ae9bab",
   "metadata": {
    "tags": []
   },
   "outputs": [
    {
     "name": "stdin",
     "output_type": "stream",
     "text": [
      "Please enter your name. Sam\n",
      "Please enter how many years of experiences working. 3\n",
      "Please enter your performance rating from 1 to 5. 4\n"
     ]
    },
    {
     "name": "stdout",
     "output_type": "stream",
     "text": [
      "You're not entitle for the promotion salary increase\n"
     ]
    }
   ],
   "source": [
    "employee_name = input(\"Please enter your name.\")\n",
    "year_of_experience = int(input(\"Please enter how many years of experiences working.\"))\n",
    "performance_rating = int(input(\"Please enter your performance rating from 1 to 5.\"))\n",
    "\n",
    "base_salary = 0\n",
    "while True:\n",
    "    if year_of_experience > 0 and year_of_experience <= 2:\n",
    "        base_salary = 40000\n",
    "        break\n",
    "    elif year_of_experience >=2 and year_of_experience <5:\n",
    "        base_salary = 60000\n",
    "        break\n",
    "    elif year_of_experience < 0:\n",
    "        print(\"Invalid number\")\n",
    "        year_of_experience = int(input(\"Please enter how many years of experiences working.\"))\n",
    "    else:\n",
    "        base_salary = 80000\n",
    "        break\n",
    "        \n",
    "while True: \n",
    "    if performance_rating >= 4 and year_of_experience >=5:\n",
    "        print(\"You get a promotion and a 10% raise\")\n",
    "        promotion_salary = base_salary*0.1\n",
    "        print(f\"You got a promotion and an increase of 10%\\n${promotion_salary:.2f}.\\n Total salary = ${base_salary+promotion_salary:.2f} \")\n",
    "        break\n",
    "    else:\n",
    "        print(\"You're not entitle for the promotion salary increase\")\n",
    "        break   \n",
    "        \n",
    "while True:\n",
    "    if year_of_experience >= 5 and performance_rating >= 4:\n",
    "        print(\"You're entitile for a promotion along with a 10% raise.\")\n",
    "        break\n",
    "total_salary = base_salary + promotion_salary\n",
    "        \n",
    "print(f\"Your promotion will increase your salary to \")"
   ]
  },
  {
   "cell_type": "markdown",
   "id": "93615af4-b6d4-4b88-9b37-9881bd4c9082",
   "metadata": {
    "tags": []
   },
   "source": [
    "## Run Code"
   ]
  },
  {
   "cell_type": "code",
   "execution_count": 9,
   "id": "fc3d1d99-594a-4501-9c0d-04efee6a0727",
   "metadata": {
    "tags": []
   },
   "outputs": [
    {
     "name": "stdin",
     "output_type": "stream",
     "text": [
      "Please enter your name. sam\n",
      "Please enter how many years of experiences working. 2\n",
      "Please enter your performance rating from 1 to 5. 2\n"
     ]
    },
    {
     "name": "stdout",
     "output_type": "stream",
     "text": [
      "You are eligable for a 5% increment this year, keep on the hard work.\n",
      "Employee name:sam\n",
      "Base salary: $40000.00\n",
      "Performance bonus =$2000.00\n",
      "Total salary = $42000.00\n"
     ]
    }
   ],
   "source": [
    "employee_name = input(\"Please enter your name.\")\n",
    "year_of_experience = int(input(\"Please enter how many years of experiences working.\"))\n",
    "performance_rating = int(input(\"Please enter your performance rating from 1 to 5.\"))\n",
    "\n",
    "\n",
    "base_salary = 0\n",
    "while True:\n",
    "    if year_of_experience >= 0 and year_of_experience <= 2:\n",
    "        base_salary = 40000\n",
    "        break\n",
    "    elif year_of_experience >2 and year_of_experience <=5:\n",
    "        base_salary = 60000\n",
    "        break\n",
    "    elif year_of_experience <= 0:\n",
    "        print(\"Invalid number\")\n",
    "        year_of_experience = int(input(\"Please enter how many years of experiences working.\"))\n",
    "    else:\n",
    "        base_salary = 80000\n",
    "        break\n",
    "while True: \n",
    "    if performance_rating == 1:\n",
    "        print(\"Please try harder next year for bonus\")\n",
    "        break\n",
    "    elif performance_rating >=2 and performance_rating <= 4:\n",
    "        bonus_rate = 0.05\n",
    "        print(\"You are eligable for a 5% increment this year, keep on the hard work.\")\n",
    "        break\n",
    "    elif performance_rating == 5:\n",
    "        bonus_rate = 0.1\n",
    "        print(\"Congratulation, you are eligible for 10% increment!\")\n",
    "        break\n",
    "    else:\n",
    "        print(\"Please try again. Only value from 1 to 5\")\n",
    "        performance_rating = int(input(\"Please enter your performance rating from 1 to 5.\"))\n",
    "bonus = bonus_rate*base_salary\n",
    "total_salary = base_salary + bonus\n",
    "\n",
    "\n",
    "print(f\"Employee name:{employee_name}\\nBase salary: ${base_salary:.2f}\\nPerformance bonus =${bonus:.2f}\\nTotal salary = ${total_salary:.2f}\")"
   ]
  }
 ],
 "metadata": {
  "kernelspec": {
   "display_name": "Python 3 (ipykernel)",
   "language": "python",
   "name": "python3"
  },
  "language_info": {
   "codemirror_mode": {
    "name": "ipython",
    "version": 3
   },
   "file_extension": ".py",
   "mimetype": "text/x-python",
   "name": "python",
   "nbconvert_exporter": "python",
   "pygments_lexer": "ipython3",
   "version": "3.11.5"
  }
 },
 "nbformat": 4,
 "nbformat_minor": 5
}
